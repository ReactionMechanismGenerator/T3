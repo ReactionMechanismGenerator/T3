{
 "cells": [
  {
   "cell_type": "markdown",
   "metadata": {},
   "source": [
    "This notebook demonstrates how to use the rms simulator adapter"
   ]
  },
  {
   "cell_type": "code",
   "execution_count": null,
   "metadata": {},
   "outputs": [],
   "source": [
    "import os\n",
    "import matplotlib.pyplot as plt\n",
    "%matplotlib inline\n",
    "\n",
    "from tests.common import run_minimal\n",
    "from t3.common import IPYTHON_SIMULATOR_EXAMPLES_PATH\n",
    "from t3.main import T3\n",
    "from t3.simulate.rms_constantTP import RMSConstantTP\n",
    "\n",
    "from arc.common import read_yaml_file"
   ]
  },
  {
   "cell_type": "code",
   "execution_count": null,
   "metadata": {},
   "outputs": [],
   "source": [
    "# define path that contains the input file and T3 iteration folders\n",
    "EXAMPLE_DIR = os.path.join(IPYTHON_SIMULATOR_EXAMPLES_PATH, 'rms_simulator_data')"
   ]
  },
  {
   "cell_type": "code",
   "execution_count": null,
   "metadata": {},
   "outputs": [],
   "source": [
    "# read in the input dictionary to use T3 via its API\n",
    "minimal_input = os.path.join(EXAMPLE_DIR, 'input.yml')\n",
    "input_dict = read_yaml_file(path=minimal_input)\n",
    "input_dict['verbose'] = 10\n",
    "input_dict['project_directory'] = EXAMPLE_DIR"
   ]
  },
  {
   "cell_type": "code",
   "execution_count": null,
   "metadata": {},
   "outputs": [],
   "source": [
    "# create an instance of T3, which stores information used by the rms adapter\n",
    "t3 = T3(**input_dict)\n",
    "t3.set_paths()"
   ]
  },
  {
   "cell_type": "code",
   "execution_count": null,
   "metadata": {},
   "outputs": [],
   "source": [
    "# simulate ideal gas with constant V and perform sensitivity analysis\n",
    "rms_simulator_adapter = RMSConstantTP(t3=t3.t3,\n",
    "                                      rmg=t3.rmg,\n",
    "                                      paths=t3.paths,\n",
    "                                      logger=t3.logger,\n",
    "                                      atol=t3.rmg['model']['atol'],\n",
    "                                      rtol=t3.rmg['model']['rtol'],\n",
    "                                      observable_list=observable_list,\n",
    "                                      sa_atol=t3.t3['sensitivity']['atol'],\n",
    "                                      sa_rtol=t3.t3['sensitivity']['rtol'],\n",
    "                                      )\n",
    "rms_simulator_adapter.simulate()"
   ]
  },
  {
   "cell_type": "code",
   "execution_count": null,
   "metadata": {},
   "outputs": [],
   "source": [
    "# get the sensitivity analysis coefficients returned in a standard dictionary format\n",
    "sa_dict = rms_simulator_adapter.get_sa_coefficients()"
   ]
  },
  {
   "cell_type": "code",
   "execution_count": null,
   "metadata": {},
   "outputs": [],
   "source": [
    "# plot the results\n",
    "species = 'H(3)'\n",
    "k = 5\n",
    "plt.plot(sa_dict['time'], sa_dict['kinetics'][species][k])\n",
    "plt.xlabel('time (s)')\n",
    "plt.ylabel(f'dln({species})/dln(k{k})')\n",
    "plt.title('Sensitivity over time')"
   ]
  }
 ],
 "metadata": {
  "kernelspec": {
   "display_name": "Python 3",
   "language": "python",
   "name": "python3"
  },
  "language_info": {
   "codemirror_mode": {
    "name": "ipython",
    "version": 3
   },
   "file_extension": ".py",
   "mimetype": "text/x-python",
   "name": "python",
   "nbconvert_exporter": "python",
   "pygments_lexer": "ipython3",
   "version": "3.7.7"
  }
 },
 "nbformat": 4,
 "nbformat_minor": 4
}
